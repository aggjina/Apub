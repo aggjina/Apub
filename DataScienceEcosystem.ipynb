{
 "cells": [
  {
   "cell_type": "markdown",
   "id": "16c8ce1e-9b1c-4fdf-a0dd-2ec786470d12",
   "metadata": {},
   "source": [
    "# Data Science Tools and Ecosystem"
   ]
  },
  {
   "cell_type": "markdown",
   "id": "ab29d84b-10af-4604-ae71-20d835aef0db",
   "metadata": {},
   "source": [
    "In this notebook, Data Science Tools and Ecosystem are summarized."
   ]
  },
  {
   "cell_type": "markdown",
   "id": "0ea44270-0f4f-44ba-bcb2-4c574a27057a",
   "metadata": {},
   "source": [
    "Some of the popular languages that Data Scientists use are:\n",
    "1. R\n",
    "2. Python\n",
    "3. Java"
   ]
  },
  {
   "cell_type": "markdown",
   "id": "ccc5fc39-f397-4539-8167-3a37342d0b86",
   "metadata": {},
   "source": [
    "Some of the commonly used libraries used by Data Scientists include:\n",
    "1. sklearn\n",
    "2. numpy\n",
    "3. pandas"
   ]
  },
  {
   "cell_type": "markdown",
   "id": "d664325f-e0c4-4a6e-ae07-4867d62948d2",
   "metadata": {},
   "source": [
    "|Data Science Tools|\n",
    "|--------|\n",
    "|Extraction|\n",
    "|Transform|\n",
    "|Load|"
   ]
  },
  {
   "cell_type": "markdown",
   "id": "f894db5e-4267-4552-8d2e-cb06ce583ef7",
   "metadata": {},
   "source": [
    "Below are a few examples of evaluating arithmetic expressions in Python"
   ]
  },
  {
   "cell_type": "code",
   "execution_count": 1,
   "id": "d9ad17c5-171a-4510-922b-db6877ee9a3b",
   "metadata": {},
   "outputs": [
    {
     "data": {
      "text/plain": [
       "17"
      ]
     },
     "execution_count": 1,
     "metadata": {},
     "output_type": "execute_result"
    }
   ],
   "source": [
    "#This a simple arithmetic expression to mutiply then add integers\n",
    "(3*4)+5"
   ]
  },
  {
   "cell_type": "code",
   "execution_count": 2,
   "id": "ca278ea8-684b-4346-9b44-4eae8d83bfa2",
   "metadata": {},
   "outputs": [
    {
     "data": {
      "text/plain": [
       "3.3333333333333335"
      ]
     },
     "execution_count": 2,
     "metadata": {},
     "output_type": "execute_result"
    }
   ],
   "source": [
    "#This will convert 200 minutes to hours by diving by 60\n",
    "200/60"
   ]
  },
  {
   "cell_type": "markdown",
   "id": "6fda9732-97c2-455b-8f1e-ff96bd7ebefc",
   "metadata": {},
   "source": [
    "**Objectives:**\n",
    "- Learn\n",
    "- Practice\n",
    "- Implement"
   ]
  },
  {
   "cell_type": "markdown",
   "id": "4dff6330-b53a-449b-97ea-edb6acecb030",
   "metadata": {},
   "source": [
    "## Author\n",
    "Anshi Aggarwal"
   ]
  },
  {
   "cell_type": "code",
   "execution_count": null,
   "id": "03efb9b2-ce9b-4548-abf4-1b3926750284",
   "metadata": {},
   "outputs": [],
   "source": []
  }
 ],
 "metadata": {
  "kernelspec": {
   "display_name": "Python 3 (ipykernel)",
   "language": "python",
   "name": "python3"
  },
  "language_info": {
   "codemirror_mode": {
    "name": "ipython",
    "version": 3
   },
   "file_extension": ".py",
   "mimetype": "text/x-python",
   "name": "python",
   "nbconvert_exporter": "python",
   "pygments_lexer": "ipython3",
   "version": "3.12.9"
  }
 },
 "nbformat": 4,
 "nbformat_minor": 5
}
